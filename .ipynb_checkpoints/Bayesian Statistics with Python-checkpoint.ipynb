{
 "cells": [
  {
   "cell_type": "markdown",
   "id": "cceda3bf",
   "metadata": {},
   "source": [
    "# Bayesian Statistics "
   ]
  },
  {
   "cell_type": "markdown",
   "id": "fd1883c6",
   "metadata": {},
   "source": [
    "## Buzzwords and backstory\n",
    "\n",
    "Bayesian statistics isn't new, it's been around since thomas bayes came up with it back in the 1700s. The formula is pretty bland, it's just some substituting and rearranging. But this shift in perspective gives birth to a whole new way of looking at probability. A whole new philosophy.\n",
    "\n",
    "__Let me clairfy__:\n",
    "\n",
    "I believe Statisitcs is about truth. But how do we describe truth? what are the underlying mechanics behind it? \n",
    "\n",
    "__The Frequentist__: \n",
    "\n",
    "The frequentist believes there exists only one true answer. \n",
    "\n",
    "But all our measurements have some error to it. Say you were measuring a mountain, you would say that each measurement you took had some error to it and at the heart of this attitude is the belief that a true answer already exists.\n",
    "So we would take many many measurements of the moutain and then the one that pops up the ___most frequent___ is the real answer and that is the FREQUENTIST approach.\n",
    "\n",
    "\n",
    "###### But the Bayesian\n",
    "\n",
    "The Bayesian thinks a little different, he believes every observation has some informaiton in it and the bayesian attitude is believing that there isn't one true value for your process but in fact a distribution. So your mountain before, a Bayeisna would say that the true value of the height of the mountain is a meaningless idea. Instead, every measurement of the height of the mountain describes some point on the ground to some point near the top of the mountain but they wont be the identical two points every time. so even though every measurement has a different value, each one is an accurate measurement of something we could call the height of the mountain.\n",
    "\n",
    "### Bayesian Babies\n",
    "\n",
    "I think I've always been bayesian but never knew it was bayesian until recently. Whenever I was asked question I'd give a range of answers rather than a singluar answer. I always thought, well I dont wanna make a decision but these are your options and these are my opinions, you can choose. My family hated it and always found me unreliable but you know what? A lot of business decisions are taken into account through a bayesian perspective, doing this allows us to uncover and view risk in a different lens and we can start adding probabilities to our answers. \n",
    "\n"
   ]
  },
  {
   "cell_type": "markdown",
   "id": "5cdbb186",
   "metadata": {},
   "source": [
    "### Theory\n",
    "\n",
    "A little theory goes a long way so the structure of the rest of the article will go as follows\n",
    "\n",
    "- Describing the mechanics of bayesian statistics\n",
    "- Explaining the essential terms\n",
    "- An example to demonstrate how bayesian models work by building an example in a PPL (probabalistic programming language) \n",
    "    - Pyro\n",
    "    - PyMC3\n",
    "    - Tensorflow Probability\n",
    "    - Stan \n",
    "    \n",
    "    \n",
    "(I think ill just use pyro) "
   ]
  },
  {
   "cell_type": "markdown",
   "id": "1657fadb",
   "metadata": {},
   "source": [
    "## Mechanics\n",
    "\n",
    "### Bayes Theorem\n",
    "\n",
    "Bayes Theorem is a result from conditional probability \n",
    "\n",
    "- Condional Probability formula: $P(A|B) = \\frac{P(A \\cap B)}{P(B)}$\n",
    "\n",
    "I remember when I was first learning this my teacher told me to bend the bar and then but the second thing underneath, safe to say that the intuition behind what was happening really didnt stick and I just ended up remembering like a computer instead of a mathematician but what does this formula really mean? \n",
    "\n",
    "\n",
    "The probability of A _GIVEN_ B means the probability of A happening if we know that B has already happened\n",
    "Diagrams always help"
   ]
  },
  {
   "cell_type": "code",
   "execution_count": 9,
   "id": "905a9464",
   "metadata": {},
   "outputs": [
    {
     "data": {
      "text/plain": [
       "<matplotlib_venn._common.VennDiagram at 0x123fa7e80>"
      ]
     },
     "execution_count": 9,
     "metadata": {},
     "output_type": "execute_result"
    },
    {
     "data": {
      "image/png": "[encoded data removed]",
      "text/plain": [
       "<Figure size 432x288 with 1 Axes>"
      ]
     },
     "metadata": {},
     "output_type": "display_data"
    }
   ],
   "source": [
    "from matplotlib_venn import venn2, venn2_circles, venn2_unweighted\n",
    "from matplotlib_venn import venn3, venn3_circles\n",
    "from matplotlib import pyplot as plt\n",
    "%matplotlib inline\n",
    "\n",
    "venn2(subsets = (0.65, 0.25, 0.1), set_labels = ('Event A', 'Event B'))"
   ]
  },
  {
   "cell_type": "markdown",
   "id": "363fe010",
   "metadata": {},
   "source": [
    "We want to find out the probability of A happening if B has already happened. \n",
    "\n",
    "The Probability of B happening is 0.35\n",
    "The Probability that A will happen after B has already happened is 0.1\n",
    "\n",
    "So the Probability of A happening _given_ B = $P(A|B) = \\frac{P(A \\cap B)}{P(B)}$ = $\\frac{0.1}{0.35}$ = 0.29"
   ]
  },
  {
   "cell_type": "markdown",
   "id": "aabd5ff2",
   "metadata": {},
   "source": [
    "#### How does Bayes theorem come out of this? well\n",
    "\n",
    "[1] $P(A|B) = \\frac{P(A \\cap B)}{P(B)}$\n",
    "\n",
    "but! \n",
    "\n",
    "[2] $P(A \\cap B) = P(B \\cap A)$\n",
    "\n",
    "and \n",
    "\n",
    "[3] $P(B|A) = \\frac{P(B \\cap A)}{P(A)}$\n",
    "\n",
    "so rearranging and subbing [3] into [2] and then that into [1] you get the following\n",
    "\n",
    "### Bayes Theorem\n",
    "\n",
    "$P(A|B) = \\frac{P(B|A)P(A)}{P(B)}$"
   ]
  },
  {
   "cell_type": "markdown",
   "id": "e3080aea",
   "metadata": {},
   "source": []
  },
  {
   "cell_type": "code",
   "execution_count": null,
   "id": "f45a47b1",
   "metadata": {},
   "outputs": [],
   "source": []
  }
 ],
 "metadata": {
  "kernelspec": {
   "display_name": "Python 3 (ipykernel)",
   "language": "python",
   "name": "python3"
  },
  "language_info": {
   "codemirror_mode": {
    "name": "ipython",
    "version": 3
   },
   "file_extension": ".py",
   "mimetype": "text/x-python",
   "name": "python",
   "nbconvert_exporter": "python",
   "pygments_lexer": "ipython3",
   "version": "3.9.9"
  }
 },
 "nbformat": 4,
 "nbformat_minor": 5
}
