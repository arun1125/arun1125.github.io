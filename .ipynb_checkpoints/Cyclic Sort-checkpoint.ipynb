{
 "cells": [
  {
   "cell_type": "code",
   "execution_count": 36,
   "id": "39455b9c",
   "metadata": {},
   "outputs": [],
   "source": [
    "test = [3, 1, 2, 3, 6, 4]"
   ]
  },
  {
   "cell_type": "code",
   "execution_count": 37,
   "id": "cbc1f062",
   "metadata": {},
   "outputs": [],
   "source": [
    "def find_corrupt_numbers(nums):\n",
    "    # TODO: Write your code here\n",
    "    \n",
    "    i = 0\n",
    "    dup_num = None\n",
    "    while i < len(nums):\n",
    "        if nums[i] != i+1:\n",
    "            j = nums[i] - 1\n",
    "            if nums[i] != nums[j]:\n",
    "                nums[i], nums[j] = nums[j], nums[i]\n",
    "            else:\n",
    "                dup_num = nums[i]\n",
    "                break\n",
    "        else:\n",
    "            i+=1\n",
    "            \n",
    "    missing_num = None\n",
    "    \n",
    "    i = 0\n",
    "    n = len(nums)\n",
    "    res = [-1]*(n+1)\n",
    "    \n",
    "    while i < len(nums):\n",
    "        j = nums[i] \n",
    "        res[j] = j\n",
    "        i+=1\n",
    "        \n",
    "    for k in range(len(res)):\n",
    "        if res[k] < 0:\n",
    "            missing_num = k\n",
    "            \n",
    "    return [dup_num, missing_num]\n",
    "    \n",
    "    "
   ]
  },
  {
   "cell_type": "code",
   "execution_count": 41,
   "id": "b0bd24bc",
   "metadata": {},
   "outputs": [],
   "source": [
    "def find_corrupt_numbers_dave(nums):\n",
    "    #cyclic sort\n",
    "    #element by element comparison to find dup\n",
    "    #do the same -1 bullshit to find missing num\n",
    "    \n",
    "    \n",
    "    #cyclic sort\n",
    "    \n",
    "    curr_idx = 0 \n",
    "    while curr_idx < len(nums):\n",
    "        proper_idx = nums[curr_idx] - 1\n",
    "        \n",
    "        if nums[curr_idx] != nums[proper_idx]:\n",
    "            nums[curr_idx], nums[proper_idx] = nums[proper_idx], nums[curr_idx]\n",
    "        else:\n",
    "            curr_idx += 1\n",
    "            \n",
    "    for i in range(len(nums)):\n",
    "        if nums[i] != i+1:\n",
    "            return [nums[i], i+1]\n",
    "            \n",
    "    return [-1,-1]"
   ]
  },
  {
   "cell_type": "code",
   "execution_count": 42,
   "id": "5ea396af",
   "metadata": {},
   "outputs": [
    {
     "data": {
      "text/plain": [
       "[3, 5]"
      ]
     },
     "execution_count": 42,
     "metadata": {},
     "output_type": "execute_result"
    }
   ],
   "source": [
    "find_corrupt_numbers_dave(test)"
   ]
  },
  {
   "cell_type": "code",
   "execution_count": 66,
   "id": "15c4e9f0",
   "metadata": {},
   "outputs": [],
   "source": [
    "def find_the_smallest_missing_positive_number(nums):\n",
    "    curr_index = 0\n",
    "    \n",
    "    while curr_index < len(nums):\n",
    "        proper_index = nums[curr_index] - 1\n",
    "\n",
    "        \n",
    "        if nums[curr_index] > 0 and nums[curr_index] <= len(nums) and nums[curr_index]!=nums[proper_index]:\n",
    "            nums[curr_index], nums[proper_index] = nums[proper_index], nums[curr_index]\n",
    "        else:\n",
    "            curr_index += 1\n",
    "            \n",
    "    for i in range(len(nums)):\n",
    "        if nums[i] != i+1:\n",
    "            return i+1\n",
    "        \n",
    "    return len(nums) + 1\n",
    "        \n",
    "        "
   ]
  },
  {
   "cell_type": "code",
   "execution_count": 67,
   "id": "ee7fd794",
   "metadata": {},
   "outputs": [
    {
     "data": {
      "text/plain": [
       "4"
      ]
     },
     "execution_count": 67,
     "metadata": {},
     "output_type": "execute_result"
    }
   ],
   "source": [
    "find_the_smallest_missing_positive_number([3, 2, 5, 1])"
   ]
  },
  {
   "cell_type": "code",
   "execution_count": null,
   "id": "d9b2980c",
   "metadata": {},
   "outputs": [],
   "source": []
  }
 ],
 "metadata": {
  "kernelspec": {
   "display_name": "Python 3 (ipykernel)",
   "language": "python",
   "name": "python3"
  },
  "language_info": {
   "codemirror_mode": {
    "name": "ipython",
    "version": 3
   },
   "file_extension": ".py",
   "mimetype": "text/x-python",
   "name": "python",
   "nbconvert_exporter": "python",
   "pygments_lexer": "ipython3",
   "version": "3.9.9"
  }
 },
 "nbformat": 4,
 "nbformat_minor": 5
}
