{
 "cells": [
  {
   "cell_type": "markdown",
   "id": "6a2359be",
   "metadata": {},
   "source": [
    "# Predicting in game win probabilities of NBA games"
   ]
  },
  {
   "cell_type": "markdown",
   "id": "959a2f3b",
   "metadata": {},
   "source": [
    "## Why?, How?, what else has been done?\n",
    "\n",
    "Before I moved to Canada I never really watched basketball live, mostly due to the time difference and me liking my sleep but when I did get the oppourtunity to move here in March/April 2019 I witnessed the Toronto Raptors make their championship run and ever since then i've been hooked. \n",
    "\n",
    "Naturally as a Data Scientist and someone who studied Maths at university I was drawn to the numbers side of things with basketball. Advanced stats, different ways of measuring impact, elo scores and other people's efforts working with basketball data showed me the other half of the sport. \n",
    "\n",
    "Seeing other peoples efforts really highlighted the amount of data that can be collected and analysed so I decided to do my own project with NBA data. Python has an excellent [API wrapper](https://github.com/swar/nba_api) around stats.nba.com with access to things I didn't even know were tracked. \n",
    "\n",
    "An interesting part of the api is that it provided live play by play data and I became interested in how nba games were predicted live."
   ]
  },
  {
   "cell_type": "markdown",
   "id": "2dd973dd",
   "metadata": {},
   "source": [
    "## Reserach / Review\n",
    "\n",
    "Looking around at what had been done I found a few blogs/articles/papers mostly related to other sports but some around basketball (NCAA and NBA).\n",
    "\n",
    "- [Bayesian approach to predicting football(not soccer) games](https://dtai.cs.kuleuven.be/sports/blog/a-bayesian-approach-to-in-game-win-probability)\n",
    "\n",
    "- [Brian Burkes NFL forecasting](http://wagesofwins.com/2009/03/05/modeling-win-probability-for-a-college-basketball-game-a-guest-post-from-brian-burke/) \n",
    "\n",
    "- [py-ball](https://github.com/basketballrelativity/py_ball)"
   ]
  },
  {
   "cell_type": "markdown",
   "id": "906b20c8",
   "metadata": {},
   "source": []
  },
  {
   "cell_type": "markdown",
   "id": "950c29c4",
   "metadata": {},
   "source": []
  },
  {
   "cell_type": "markdown",
   "id": "b3a824f5",
   "metadata": {},
   "source": []
  }
 ],
 "metadata": {
  "kernelspec": {
   "display_name": "Python 3 (ipykernel)",
   "language": "python",
   "name": "python3"
  },
  "language_info": {
   "codemirror_mode": {
    "name": "ipython",
    "version": 3
   },
   "file_extension": ".py",
   "mimetype": "text/x-python",
   "name": "python",
   "nbconvert_exporter": "python",
   "pygments_lexer": "ipython3",
   "version": "3.9.9"
  }
 },
 "nbformat": 4,
 "nbformat_minor": 5
}
