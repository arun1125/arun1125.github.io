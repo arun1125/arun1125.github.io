{
 "cells": [
  {
   "cell_type": "markdown",
   "id": "a62c07a4",
   "metadata": {},
   "source": [
    "# XGBoost, a comprehensive"
   ]
  },
  {
   "cell_type": "markdown",
   "id": "530c0274",
   "metadata": {},
   "source": [
    "Sources\n",
    "\n",
    "\n",
    "https://arxiv.org/pdf/1603.02754.pdf\n",
    "https://medium.com/analytics-vidhya/what-makes-xgboost-so-extreme-e1544a4433bb\n",
    "http://nicolas-hug.com/\n",
    "https://medium.com/hypatai/what-makes-xgboost-fast-and-powerful-dc315313ee23#:~:text=Cache%2Daware%20Access%20%26%20Blocks%20for%20Out%2Dof%2Dcore%20Computation&text=To%20calculate%20the%20gain%20in,to%20use%20the%20disk%20space.\n",
    "https://stackoverflow.com/questions/34151051/how-does-xgboost-do-parallel-computation\n",
    "https://medium.com/blablacar/thinking-before-building-xgboost-parallelization-f1a3f37b6e68#:~:text=In%20XGBoost%2C%20the%20parallelisation%20happens,the%20tree%20are%20trained%20separately.&text=Before%20any%20parallel%20computation%2C%20data,not%20be%20the%20best%20idea."
   ]
  }
 ],
 "metadata": {
  "kernelspec": {
   "display_name": "Python 3 (ipykernel)",
   "language": "python",
   "name": "python3"
  },
  "language_info": {
   "codemirror_mode": {
    "name": "ipython",
    "version": 3
   },
   "file_extension": ".py",
   "mimetype": "text/x-python",
   "name": "python",
   "nbconvert_exporter": "python",
   "pygments_lexer": "ipython3",
   "version": "3.9.9"
  }
 },
 "nbformat": 4,
 "nbformat_minor": 5
}
