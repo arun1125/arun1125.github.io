{
 "cells": [
  {
   "cell_type": "markdown",
   "id": "3e782b5b",
   "metadata": {},
   "source": [
    "{:toc}"
   ]
  },
  {
   "cell_type": "markdown",
   "id": "f899a455",
   "metadata": {},
   "source": [
    "## What are they "
   ]
  },
  {
   "cell_type": "markdown",
   "id": "65cedabe",
   "metadata": {},
   "source": [
    "An array is a data structure which stores data that can be accessed by their index."
   ]
  },
  {
   "cell_type": "markdown",
   "id": "0863137c",
   "metadata": {},
   "source": [
    "## How do they work on the inside"
   ]
  },
  {
   "cell_type": "markdown",
   "id": "d26f47e0",
   "metadata": {},
   "source": [
    "## Dynamic vs Fixed"
   ]
  },
  {
   "cell_type": "markdown",
   "id": "6295a78b",
   "metadata": {},
   "source": [
    "## Shit implementation"
   ]
  },
  {
   "cell_type": "markdown",
   "id": "2f441b99",
   "metadata": {},
   "source": [
    "## Leetcode Practice|"
   ]
  },
  {
   "cell_type": "code",
   "execution_count": 1,
   "id": "d5843f65",
   "metadata": {},
   "outputs": [],
   "source": [
    "nums = [9,6,4,2,3,5,7,0,1]"
   ]
  },
  {
   "cell_type": "code",
   "execution_count": 3,
   "id": "25bb7c5e",
   "metadata": {},
   "outputs": [],
   "source": [
    "n = len(nums)"
   ]
  },
  {
   "cell_type": "code",
   "execution_count": 4,
   "id": "f86dee29",
   "metadata": {},
   "outputs": [],
   "source": [
    "tot = (n*(n+1))/2"
   ]
  },
  {
   "cell_type": "code",
   "execution_count": 5,
   "id": "b7aaca82",
   "metadata": {},
   "outputs": [
    {
     "data": {
      "text/plain": [
       "45.0"
      ]
     },
     "execution_count": 5,
     "metadata": {},
     "output_type": "execute_result"
    }
   ],
   "source": [
    "tot"
   ]
  },
  {
   "cell_type": "code",
   "execution_count": 6,
   "id": "112ba7b0",
   "metadata": {},
   "outputs": [],
   "source": [
    "curr = sum(nums)"
   ]
  },
  {
   "cell_type": "code",
   "execution_count": 7,
   "id": "80137eb5",
   "metadata": {},
   "outputs": [
    {
     "data": {
      "text/plain": [
       "37"
      ]
     },
     "execution_count": 7,
     "metadata": {},
     "output_type": "execute_result"
    }
   ],
   "source": [
    "curr"
   ]
  },
  {
   "cell_type": "code",
   "execution_count": 8,
   "id": "c74a0d12",
   "metadata": {},
   "outputs": [
    {
     "data": {
      "text/plain": [
       "8.0"
      ]
     },
     "execution_count": 8,
     "metadata": {},
     "output_type": "execute_result"
    }
   ],
   "source": [
    "tot - curr"
   ]
  },
  {
   "cell_type": "code",
   "execution_count": null,
   "id": "74b5f274",
   "metadata": {},
   "outputs": [],
   "source": []
  }
 ],
 "metadata": {
  "kernelspec": {
   "display_name": "Python 3 (ipykernel)",
   "language": "python",
   "name": "python3"
  },
  "language_info": {
   "codemirror_mode": {
    "name": "ipython",
    "version": 3
   },
   "file_extension": ".py",
   "mimetype": "text/x-python",
   "name": "python",
   "nbconvert_exporter": "python",
   "pygments_lexer": "ipython3",
   "version": "3.9.4"
  }
 },
 "nbformat": 4,
 "nbformat_minor": 5
}
