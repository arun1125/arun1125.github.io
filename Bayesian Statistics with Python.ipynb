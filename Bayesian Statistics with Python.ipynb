{
 "cells": [
  {
   "cell_type": "markdown",
   "id": "13f272dd",
   "metadata": {},
   "source": [
    "# Bayesian Statistics "
   ]
  },
  {
   "cell_type": "markdown",
   "id": "bd924f5f",
   "metadata": {},
   "source": [
    "## Buzzwords and backstory\n",
    "\n",
    "Bayesian statistics isn't new, it's been around since thomas bayes came up with it back in the 1700s. The formula is derived just with some substituting and rearranging nothing fancy but this shift in perspective gives us a whole new way of looking at things - a new philosophy.\n",
    "\n",
    "__The Frequentist__ - The OG: \n",
    "The old school (well before 1700 I guess) philosophy says that there is only one true answer and at the heart of this attitude is the belief that a true answer already exists. Buuuuuuuuuut, to measure it you must take a large number of samples and find the most _frequent_ one. Thats your true value! Why we have to take a large amount because we believe that every measurement comes with a little error.\n",
    "\n",
    "E.G:\n",
    "The height of a mountain.\n",
    "Say we take measurements of the height of a mountain in km:\n",
    "5000\n",
    "4999\n",
    "5000\n",
    "4999\n",
    "5000\n",
    "4998\n",
    "...\n",
    "5000\n",
    "\n",
    "it's looking like our mountains true height value is close to 5000\n",
    "\n",
    "\n",
    "#### But the Bayesian\n",
    "\n",
    "The Bayesian thinks a little different, he believes every observation has some information in it and the bayesian attitude is believing that there isn't one true value for your process but in fact a distribution. So with the mountain before, a Bayeisn would say that the true value of the height of the mountain is a meaningless idea. Instead, every measurement of the height of the mountain describes some point on the ground to some point near the top of the mountain but they wont be the identical two points every time. so even though every measurement has a different value, each one is an accurate measurement of something we could call the height of the mountain.\n"
   ]
  },
  {
   "cell_type": "markdown",
   "id": "a8576b18",
   "metadata": {},
   "source": [
    "### Theory\n",
    "\n",
    "A little theory goes a long way so the structure of the rest of the article will go as follows\n",
    "\n",
    "- Describing the mechanics of bayesian statistics\n",
    "- Explaining the essential terms\n",
    "- An example to demonstrate how bayesian models work"
   ]
  },
  {
   "cell_type": "markdown",
   "id": "70d57d95",
   "metadata": {},
   "source": [
    "## Mechanics\n",
    "\n",
    "### Conditional Probability \n",
    "\n",
    "Bayes Theorem is a result from conditional probability \n",
    "\n",
    "- Condional Probability formula: $P(A|B) = \\frac{P(A \\cap B)}{P(B)}$\n",
    "\n",
    "I remember when I was first learning this my teacher told me to bend the bar and divide by the given event. Safe to say that the intuition behind what was happening really didnt stick and I just ended up remembering like a computer instead of a human. So what is really going on here?\n",
    "\n",
    "The probability of A _GIVEN_ B means the probability of A happening if we know that B has already happened\n"
   ]
  },
  {
   "cell_type": "markdown",
   "id": "dcf3d845",
   "metadata": {},
   "source": [
    "Diagrams always help"
   ]
  },
  {
   "cell_type": "code",
   "execution_count": 3,
   "id": "26eae376",
   "metadata": {},
   "outputs": [
    {
     "data": {
      "text/plain": [
       "<matplotlib_venn._common.VennDiagram at 0x123378190>"
      ]
     },
     "execution_count": 3,
     "metadata": {},
     "output_type": "execute_result"
    },
    {
     "data": {
      "image/png": "[encoded data removed]",
      "text/plain": [
       "<Figure size 432x288 with 1 Axes>"
      ]
     },
     "metadata": {},
     "output_type": "display_data"
    }
   ],
   "source": [
    "from matplotlib_venn import venn2, venn2_circles, venn2_unweighted\n",
    "from matplotlib_venn import venn3, venn3_circles\n",
    "from matplotlib import pyplot as plt\n",
    "%matplotlib inline\n",
    "\n",
    "venn2(subsets = (0.65, 0.25, 0.1), set_labels = ('Event A', 'Event B'))"
   ]
  },
  {
   "cell_type": "markdown",
   "id": "062a52b0",
   "metadata": {},
   "source": [
    "We want to find out the probability of A happening if B has already happened. \n",
    "\n",
    "The Probability of B happening is 0.35\n",
    "The Probability that A will happen after B has already happened is 0.1\n",
    "\n",
    "So the Probability of A happening _given_ B = $P(A|B) = \\frac{P(A \\cap B)}{P(B)}$ = $\\frac{0.1}{0.35}$ = 0.29"
   ]
  },
  {
   "cell_type": "markdown",
   "id": "b78de8ae",
   "metadata": {},
   "source": [
    "#### How does Bayes theorem come out of this? well\n",
    "\n",
    "[1] $P(A|B) = \\frac{P(A \\cap B)}{P(B)}$\n",
    "\n",
    "but! \n",
    "\n",
    "[2] $P(A \\cap B) = P(B \\cap A)$\n",
    "\n",
    "and \n",
    "\n",
    "[3] $P(B|A) = \\frac{P(B \\cap A)}{P(A)}$\n",
    "\n",
    "so rearranging and subbing [3] into [2] and then that into [1] you get the following\n",
    "\n",
    "### Bayes Theorem\n",
    "\n",
    "$P(A|B) = \\frac{P(B|A)P(A)}{P(B)}$"
   ]
  },
  {
   "cell_type": "markdown",
   "id": "cda8f47e",
   "metadata": {},
   "source": [
    "# So what do the terms mean? \n",
    "im gonna swap out the A's and B's for X's and Y's now and add a context. \n",
    "\n",
    "X is your Data - Say about flowers, maybe the features are height, colour, number of leaves\n",
    "Y is your Target - Whether your flower is a rose or not\n",
    "\n",
    "So the main idea in bayesian statistics is that we have a _prior_ belief about what the Target is. Typically in the form of a probability distribution. We multiply this distribution by the _liklihood_ of our data and to get a new probability distribution divide it by _the evidence_ but here evidence doesn't mean something you'd find in a crime scene. The evidence is the probability of getting our data over all potential outcomes. This result gives us our _posterior_ belief about our Target. \n",
    "\n",
    "$P(Y|X) = \\frac{P(X|Y)P(Y)}{P(X)}$\n",
    "\n",
    "- $P(Y)$: ***The Prior*** - our prior belief about the target, in the real world this could be an assumption, experts intuition or previous experiments result.\n",
    "\n",
    "\n",
    "- $P(X|Y)$: ***The Liklihood*** - this is the probability that we see the data given the targets, meditate on this for a second. The probability of seeing the data given that the targets are the same. Could you have different data but the same targets? ... \n",
    "\n",
    "\n",
    "- $P(Y|X)$: ***The Posterior*** - Our updated belief about the target\n",
    "\n",
    "- $P(X)$: ***The Evidence*** - This is the probability of seeing the data over all possible targets/ the probability of the data emerging by any means at all.\n"
   ]
  },
  {
   "cell_type": "markdown",
   "id": "70be020a",
   "metadata": {},
   "source": [
    "It took me a minute but now I see that it's very intuitive. You have a world view about a topic, you collect data about it and that shifts your world view shifts. The amount it shifts is relative to how relavent your data was to the target.\n",
    "\n",
    "##### digressive\n",
    "\n",
    "- The distribution is an object, you can do stuff to it, so say you're doing a multiple choice question and you didnt study so you have no idea what the answer is. a=b=c=d=25% then you go and study and learn more stuff and the probability starts shifting around because you're getting smarter until you think you're start enough o find a value you're confident with and then say fuck it. That threshold determines how risky you want to be.\n",
    "\n",
    "\n",
    "- It's kinda like a weighted average innit?"
   ]
  },
  {
   "cell_type": "markdown",
   "id": "b02773ea",
   "metadata": {},
   "source": [
    "# An example\n",
    "\n",
    "As you might've guess from my previous blog posts im a massive NBA fan it'just incredibly serendipituous that they have a wealth of data to explore, analyse and model. \n",
    "\n",
    "As you might've seen recently James harden was traded to the Philly for Ben Simmons!\n",
    "\n",
    "What I want to model is how James hardens scoring changed over his career. It definitely has; from his time as a sixth man, to NBA MVP almost dethroning the **KD warriors** in 2018 and then moving to the nets where him kyrie and kd played a grand total of 16 games together lol. But actually quantifiying the change will be interesting to see. "
   ]
  },
  {
   "cell_type": "markdown",
   "id": "9871d762",
   "metadata": {},
   "source": [
    "### Get the data"
   ]
  },
  {
   "cell_type": "code",
   "execution_count": 24,
   "id": "feb56590",
   "metadata": {},
   "outputs": [],
   "source": [
    "#imports \n",
    "from nba_api.stats.endpoints import playergamelog #will get us the players box score numbers per game for each season\n",
    "from nba_api.stats.static import players #gives us a list of players\n",
    "import pandas as pd # <3 "
   ]
  },
  {
   "cell_type": "code",
   "execution_count": 26,
   "id": "184782d7",
   "metadata": {},
   "outputs": [],
   "source": [
    "players_df = pd.DataFrame(players.get_active_players())\n",
    "jh_id = players_df[players_df.full_name.str.contains('James Harden')].id.iloc[0]"
   ]
  },
  {
   "cell_type": "code",
   "execution_count": 48,
   "id": "be3e937a",
   "metadata": {},
   "outputs": [],
   "source": [
    "seasons = [f'20{x}-{x+1}' for x in range(10,22)]\n",
    "seasons.insert(0, '2009-10')"
   ]
  },
  {
   "cell_type": "code",
   "execution_count": 50,
   "id": "3796c0b8",
   "metadata": {},
   "outputs": [],
   "source": [
    "dfs = []\n",
    "\n",
    "for season in seasons:\n",
    "    dfs.append(playergamelog.PlayerGameLog(str(jh_id), season=season).get_data_frames()[0])"
   ]
  },
  {
   "cell_type": "code",
   "execution_count": 52,
   "id": "f88837d9",
   "metadata": {},
   "outputs": [],
   "source": [
    "df = pd.concat(dfs)"
   ]
  },
  {
   "cell_type": "code",
   "execution_count": 54,
   "id": "cc88ee45",
   "metadata": {},
   "outputs": [],
   "source": [
    "df.to_csv('james_harden.csv', index=False)"
   ]
  },
  {
   "cell_type": "code",
   "execution_count": 63,
   "id": "e2831a73",
   "metadata": {},
   "outputs": [
    {
     "data": {
      "text/plain": [
       "SEASON_ID\n",
       "22009    AxesSubplot(0.125,0.125;0.775x0.755)\n",
       "22010    AxesSubplot(0.125,0.125;0.775x0.755)\n",
       "22011    AxesSubplot(0.125,0.125;0.775x0.755)\n",
       "22012    AxesSubplot(0.125,0.125;0.775x0.755)\n",
       "22013    AxesSubplot(0.125,0.125;0.775x0.755)\n",
       "22014    AxesSubplot(0.125,0.125;0.775x0.755)\n",
       "22015    AxesSubplot(0.125,0.125;0.775x0.755)\n",
       "22016    AxesSubplot(0.125,0.125;0.775x0.755)\n",
       "22017    AxesSubplot(0.125,0.125;0.775x0.755)\n",
       "22018    AxesSubplot(0.125,0.125;0.775x0.755)\n",
       "22019    AxesSubplot(0.125,0.125;0.775x0.755)\n",
       "22020    AxesSubplot(0.125,0.125;0.775x0.755)\n",
       "22021    AxesSubplot(0.125,0.125;0.775x0.755)\n",
       "Name: PTS, dtype: object"
      ]
     },
     "execution_count": 63,
     "metadata": {},
     "output_type": "execute_result"
    },
    {
     "data": {
      "image/png": "[encoded data removed]",
      "text/plain": [
       "<Figure size 432x288 with 1 Axes>"
      ]
     },
     "metadata": {
      "needs_background": "light"
     },
     "output_type": "display_data"
    }
   ],
   "source": [
    "df.groupby('SEASON_ID')['PTS'].plot(kind='hist')"
   ]
  },
  {
   "cell_type": "code",
   "execution_count": null,
   "id": "9432695c",
   "metadata": {},
   "outputs": [],
   "source": []
  }
 ],
 "metadata": {
  "kernelspec": {
   "display_name": "Python 3 (ipykernel)",
   "language": "python",
   "name": "python3"
  },
  "language_info": {
   "codemirror_mode": {
    "name": "ipython",
    "version": 3
   },
   "file_extension": ".py",
   "mimetype": "text/x-python",
   "name": "python",
   "nbconvert_exporter": "python",
   "pygments_lexer": "ipython3",
   "version": "3.9.9"
  }
 },
 "nbformat": 4,
 "nbformat_minor": 5
}
