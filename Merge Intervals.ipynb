{
 "cells": [
  {
   "cell_type": "code",
   "execution_count": 4,
   "id": "b3c6e06f",
   "metadata": {},
   "outputs": [],
   "source": [
    "from heapq import *\n",
    "\n",
    "\n",
    "class job:\n",
    "    def __init__(self, start, end, cpu_load):\n",
    "        self.start = start\n",
    "        self.end = end\n",
    "        self.cpu_load = cpu_load\n",
    "        \n",
    "    def __lt__(self, other):\n",
    "        return self.end < other.end\n",
    "\n",
    "def find_max_cpu_load(jobs):\n",
    "    # TODO: Write your code here\n",
    "    '''\n",
    "    algo\n",
    "    1) sort on start of intervals\n",
    "    2) create min heap to store whats going on (min heap based on end times)\n",
    "    3) keep track of max cpu load which will be max(max cpu load, curr total of min heap)\n",
    "    return max \n",
    "    '''\n",
    "    #sort jobs based on start of interval\n",
    "    jobs.sort(key=lambda x: x.start)\n",
    "    max_load = 0\n",
    "    curr_load = 0\n",
    "    minHeap = []\n",
    "    \n",
    "    for job in jobs:\n",
    "        while (len(minHeap) > 0 and job.start >= minHeap[0].end):\n",
    "            popped = heappop(minHeap)\n",
    "            curr_load -= popped.cpu_load\n",
    "            \n",
    "        heappush(minHeap, job)\n",
    "        curr_load += job.cpu_load\n",
    "         \n",
    "        max_load = max(max_load, curr_load)\n",
    "        \n",
    "    return max_load"
   ]
  },
  {
   "cell_type": "code",
   "execution_count": 5,
   "id": "e8aa428d",
   "metadata": {},
   "outputs": [
    {
     "name": "stdout",
     "output_type": "stream",
     "text": [
      "Maximum CPU load at any time: 7\n",
      "Maximum CPU load at any time: 15\n",
      "Maximum CPU load at any time: 8\n"
     ]
    }
   ],
   "source": [
    "def main():\n",
    "    print(\"Maximum CPU load at any time: \" + str(find_max_cpu_load([job(1, 4, 3), job(2, 5, 4), job(7, 9, 6)])))\n",
    "    print(\"Maximum CPU load at any time: \" + str(find_max_cpu_load([job(6, 7, 10), job(2, 4, 11), job(8, 12, 15)])))\n",
    "    print(\"Maximum CPU load at any time: \" + str(find_max_cpu_load([job(1, 4, 2), job(2, 4, 1), job(3, 6, 5)])))\n",
    "\n",
    "\n",
    "main()"
   ]
  },
  {
   "cell_type": "code",
   "execution_count": null,
   "id": "1878dd7a",
   "metadata": {},
   "outputs": [],
   "source": []
  }
 ],
 "metadata": {
  "kernelspec": {
   "display_name": "Python 3 (ipykernel)",
   "language": "python",
   "name": "python3"
  },
  "language_info": {
   "codemirror_mode": {
    "name": "ipython",
    "version": 3
   },
   "file_extension": ".py",
   "mimetype": "text/x-python",
   "name": "python",
   "nbconvert_exporter": "python",
   "pygments_lexer": "ipython3",
   "version": "3.9.9"
  }
 },
 "nbformat": 4,
 "nbformat_minor": 5
}
