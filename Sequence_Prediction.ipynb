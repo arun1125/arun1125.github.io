{
 "cells": [
  {
   "cell_type": "markdown",
   "id": "5b820db2",
   "metadata": {},
   "source": [
    "# Sequence Prediction "
   ]
  },
  {
   "cell_type": "markdown",
   "id": "13ffba92",
   "metadata": {},
   "source": [
    "This is either the first in a series (1/n) or a very very long notebook on sequence prediction. \n",
    "\n",
    "Why? Great Question!, I need to learn it for work and I don't really know anything about it, YET"
   ]
  },
  {
   "cell_type": "markdown",
   "id": "7cdbfb4d",
   "metadata": {},
   "source": [
    "This notebook will probably act as a conversation from me to me, hopefully you appreciate this style of writing because I haven't figured that stuff out yet either"
   ]
  },
  {
   "cell_type": "markdown",
   "id": "24b685de",
   "metadata": {},
   "source": [
    "1. TOC\n",
    "{:toc}"
   ]
  },
  {
   "cell_type": "markdown",
   "id": "b48bc8a2",
   "metadata": {},
   "source": [
    "## Initial Questions\n",
    "\n",
    "* What is sequence prediction?\n",
    "* What is my main goal trying when doing sequence predictions?\n",
    "* How is the Problem Formulated?\n",
    "* What are the current popular techniques for solving these problems?\n",
    "* What were they previously and why aren't they popular anymore (we learn through counter factuals)"
   ]
  },
  {
   "cell_type": "markdown",
   "id": "44042f4c",
   "metadata": {},
   "source": [
    "### What is Sequence Prediction?"
   ]
  },
  {
   "cell_type": "code",
   "execution_count": null,
   "id": "8ce76668",
   "metadata": {},
   "outputs": [],
   "source": []
  }
 ],
 "metadata": {
  "kernelspec": {
   "display_name": "Python 3 (ipykernel)",
   "language": "python",
   "name": "python3"
  },
  "language_info": {
   "codemirror_mode": {
    "name": "ipython",
    "version": 3
   },
   "file_extension": ".py",
   "mimetype": "text/x-python",
   "name": "python",
   "nbconvert_exporter": "python",
   "pygments_lexer": "ipython3",
   "version": "3.9.4"
  }
 },
 "nbformat": 4,
 "nbformat_minor": 5
}
