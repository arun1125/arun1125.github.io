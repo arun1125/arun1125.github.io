{
 "cells": [
  {
   "cell_type": "markdown",
   "metadata": {},
   "source": [
    "# Evaluating Classifiers "
   ]
  },
  {
   "cell_type": "markdown",
   "metadata": {},
   "source": [
    "I found that the best way to go through an idea is to have an easy, low dimensional example so I can see the mechanics of whats going on. \n",
    "\n",
    "We're going to see that evaluating classifiers can be incredibly nuanced, and context dependant. Maybe you're building a model to see whether someone has a very rare form of cancer or just building a model to predict if someone likes football. The consequences of making mistakes and the distribution of our labels are DRASTICALLY different."
   ]
  },
  {
   "cell_type": "code",
   "execution_count": 1,
   "metadata": {},
   "outputs": [],
   "source": [
    "#the setup\n",
    "import pandas as pd\n",
    "import numpy as np\n",
    "from sklearn.datasets import make_classification\n",
    "\n",
    "import matplotlib.pyplot as plt\n",
    "import seaborn as sns\n",
    "%matplotlib inline"
   ]
  },
  {
   "cell_type": "markdown",
   "metadata": {},
   "source": [
    "### Context\n",
    "\n",
    "The data we have is about a rare genetic disease. Very few people have it and our task is to build a machine learning model to figure out who has the disease and who doesn't.\n",
    "\n",
    "nb: the model we build will be a very simple model, no feature engineering, no hyperparameter tuning, no cross validation. We are trying to see how to _evaluate_ classifiers! Maybe in the future i'll add a post with really involved modelling efforts"
   ]
  },
  {
   "cell_type": "code",
   "execution_count": 2,
   "metadata": {},
   "outputs": [],
   "source": [
    "from sklearn.model_selection import train_test_split\n",
    "from sklearn.linear_model import LogisticRegression\n",
    "from sklearn.metrics import accuracy_score, classification_report, confusion_matrix\n",
    "from collections import Counter"
   ]
  },
  {
   "cell_type": "code",
   "execution_count": 89,
   "metadata": {},
   "outputs": [],
   "source": [
    "def generate_data(w):\n",
    "    #generate sample data and throw into dataframe\n",
    "    data, labels= make_classification(\n",
    "        n_samples = 1000, \n",
    "        n_features = 3, \n",
    "        n_informative=3,\n",
    "        n_redundant=0,\n",
    "        n_classes = 2, \n",
    "        weights=[w]\n",
    "        )\n",
    "    data = np.append(data, labels.reshape(-1,1), axis = 1)\n",
    "    \n",
    "    return pd.DataFrame(data, columns = ['feature_0', 'feature_1', 'feature_2', 'target'])"
   ]
  },
  {
   "cell_type": "code",
   "execution_count": 90,
   "metadata": {},
   "outputs": [],
   "source": [
    "def split_data(df):\n",
    "    #split our data into train and test \n",
    "    train, test = train_test_split(df,\n",
    "                test_size = 0.2,\n",
    "                stratify = df['target'],\n",
    "                random_state = 42)\n",
    "\n",
    "    X_train, y_train = train.drop('target', axis = 1), train['target']\n",
    "\n",
    "    X_test, y_test = test.drop('target', axis = 1), test['target']\n",
    "    \n",
    "    return X_train, X_test, y_train, y_test"
   ]
  },
  {
   "cell_type": "code",
   "execution_count": 102,
   "metadata": {},
   "outputs": [],
   "source": [
    "def train_model(train, target):\n",
    "    model = LogisticRegression()\n",
    "    model.fit(train, target)\n",
    "    return model"
   ]
  },
  {
   "cell_type": "code",
   "execution_count": 91,
   "metadata": {},
   "outputs": [],
   "source": [
    "disease_df = generate_data(0.99)"
   ]
  },
  {
   "cell_type": "code",
   "execution_count": 92,
   "metadata": {},
   "outputs": [],
   "source": [
    "X_train, X_test, y_train, y_test = split_data(disease_df)"
   ]
  },
  {
   "cell_type": "code",
   "execution_count": 103,
   "metadata": {},
   "outputs": [],
   "source": [
    "#instantiate and fit our model\n",
    "disease_model = train_model(X_train, y_train)"
   ]
  },
  {
   "cell_type": "markdown",
   "metadata": {},
   "source": [
    "# Evaluating our model"
   ]
  },
  {
   "cell_type": "markdown",
   "metadata": {},
   "source": [
    "So we've built our model, it might be rubbish and very crude right now but it exists only to server a purpose and not actually try and save someones life"
   ]
  },
  {
   "cell_type": "code",
   "execution_count": 105,
   "metadata": {},
   "outputs": [],
   "source": [
    "#get the predictions for our test set\n",
    "y_preds = disease_model.predict(X_test)"
   ]
  },
  {
   "cell_type": "code",
   "execution_count": 106,
   "metadata": {},
   "outputs": [
    {
     "data": {
      "text/plain": [
       "0.985"
      ]
     },
     "execution_count": 106,
     "metadata": {},
     "output_type": "execute_result"
    }
   ],
   "source": [
    "accuracy_score(y_test, y_preds)"
   ]
  },
  {
   "cell_type": "markdown",
   "metadata": {},
   "source": [
    "## The problem with JUST accuracy"
   ]
  },
  {
   "cell_type": "markdown",
   "metadata": {},
   "source": [
    "WOW! won't you look at that, we scored ~99% on our test set. That's all folks! go home, get on your linked in, call yourself a _dAtA sCiEnTisT_ and start applying for jobs! We crushed it! \n",
    "\n",
    "Alas if it were only that easy. \n",
    "\n",
    "A key skill you'll need in data science is skepticsim, if the results look too good, they probably are. A Healthy amount of skepticsim will get you far, especially if you start using it as a spidey sense for digging into things.\n",
    "\n",
    "So lets have a look at our actual predictions"
   ]
  },
  {
   "cell_type": "code",
   "execution_count": 107,
   "metadata": {},
   "outputs": [
    {
     "data": {
      "text/plain": [
       "Counter({0.0: 200})"
      ]
     },
     "execution_count": 107,
     "metadata": {},
     "output_type": "execute_result"
    }
   ],
   "source": [
    "#Get a frequency count of our predictions\n",
    "Counter(y_preds)"
   ]
  },
  {
   "cell_type": "markdown",
   "metadata": {},
   "source": [
    "wait a second .. why are we never predicting that a patient has this super rare disease that's life threatening? something feels wrong here. \n",
    "\n",
    "Lets look at the definition of accuracy first\n",
    "\n",
    "Accuracy = $\\Large \\frac{Number of correct Predictions}{Total number of predictions}$\n",
    "\n",
    "A quick thought experiment: \n",
    "\n",
    "If our model was a child taking a test, whats the best way for this child to cheat on said test if the child was only being graded on accuracy and looking back at past papers over 99% of the answers were 0/False? \n",
    "\n",
    "Just Guess everything as 0/False! don't bother studying and spend that free time playing video games\n",
    "\n",
    "But this isn't a child, its a statistical model and its predicting whether someone has a very rare life threatening illness so we can't accept this!"
   ]
  },
  {
   "cell_type": "markdown",
   "metadata": {},
   "source": [
    "## different types of 'wrong' or errors! \n",
    "\n"
   ]
  },
  {
   "cell_type": "markdown",
   "metadata": {},
   "source": [
    "1. False Positive (type 1 error in the hypothesis testing context)\n",
    "2. False Negative (type 2 error in the hypothesis testing context)\n",
    "\n",
    "- (maybe ill write a separate article on hypothesis testing, A/B testing and bayesian A/B testing)\n",
    "\n",
    "These errors sound like what they are, a False positive error, from here on will be referred to as FP is when we incorrectly classify a 0 as a 1, it's a _False_ _positive_ \n",
    "\n",
    "similarly a False Negative, from here on out will be reffered to as FN, is when you incorrectly classify a 1 as a 0 it's a _False_ _Negative_"
   ]
  },
  {
   "cell_type": "markdown",
   "metadata": {},
   "source": [
    "### The confusion Matrix\n",
    "\n",
    "The confusion matrix is an easy way to represent these four quantities, True Positive (TP), True Negative(TN), FP, FN"
   ]
  },
  {
   "cell_type": "code",
   "execution_count": 108,
   "metadata": {},
   "outputs": [
    {
     "data": {
      "text/html": [
       "<div>\n",
       "<style scoped>\n",
       "    .dataframe tbody tr th:only-of-type {\n",
       "        vertical-align: middle;\n",
       "    }\n",
       "\n",
       "    .dataframe tbody tr th {\n",
       "        vertical-align: top;\n",
       "    }\n",
       "\n",
       "    .dataframe thead th {\n",
       "        text-align: right;\n",
       "    }\n",
       "</style>\n",
       "<table border=\"1\" class=\"dataframe\">\n",
       "  <thead>\n",
       "    <tr style=\"text-align: right;\">\n",
       "      <th></th>\n",
       "      <th>Predicted False</th>\n",
       "      <th>Predicted True</th>\n",
       "    </tr>\n",
       "  </thead>\n",
       "  <tbody>\n",
       "    <tr>\n",
       "      <th>Actual False</th>\n",
       "      <td>197</td>\n",
       "      <td>0</td>\n",
       "    </tr>\n",
       "    <tr>\n",
       "      <th>Actual True</th>\n",
       "      <td>3</td>\n",
       "      <td>0</td>\n",
       "    </tr>\n",
       "  </tbody>\n",
       "</table>\n",
       "</div>"
      ],
      "text/plain": [
       "              Predicted False  Predicted True\n",
       "Actual False              197               0\n",
       "Actual True                 3               0"
      ]
     },
     "execution_count": 108,
     "metadata": {},
     "output_type": "execute_result"
    }
   ],
   "source": [
    "cm = pd.DataFrame(confusion_matrix(y_test, y_preds), \n",
    "             columns = ['Predicted False', 'Predicted True'],\n",
    "            index = ['Actual False', 'Actual True'])\n",
    "cm"
   ]
  },
  {
   "cell_type": "markdown",
   "metadata": {},
   "source": [
    "- top left cell is TN\n",
    "- top right cell is FP\n",
    "- bottom left cell is FN\n",
    "- bottom right cell is TP"
   ]
  },
  {
   "cell_type": "markdown",
   "metadata": {},
   "source": [
    "### Different error metrics \n",
    "\n",
    "Our confusion matrix is a nice segway into introducing other error metrics which we can use to evaluate our classifier. Depending on the context the cost of missclassifiying a positive sample might be really high. For example in our situation we really don't want to missclassify a positive sample just in case someone actually does have this very rare disease that could kill them. \n",
    "\n",
    "- **Precision**: Out of all the positive values we predicted how many were actually positive\n",
    "    - $\\large \\frac{TP}{TP+FP}$\n",
    "\n",
    "\n",
    "- **Recall**: Out of all the _actual_ positive values how many did we get right? \n",
    "    - $\\large \\frac{TP}{TP+FN}$"
   ]
  },
  {
   "cell_type": "code",
   "execution_count": 109,
   "metadata": {},
   "outputs": [],
   "source": [
    "from sklearn.metrics import precision_score, recall_score"
   ]
  },
  {
   "cell_type": "code",
   "execution_count": 110,
   "metadata": {},
   "outputs": [
    {
     "name": "stderr",
     "output_type": "stream",
     "text": [
      "/Users/arun/Projects/blog/venv/lib/python3.9/site-packages/sklearn/metrics/_classification.py:1318: UndefinedMetricWarning: Precision is ill-defined and being set to 0.0 due to no predicted samples. Use `zero_division` parameter to control this behavior.\n",
      "  _warn_prf(average, modifier, msg_start, len(result))\n"
     ]
    },
    {
     "data": {
      "text/plain": [
       "0.0"
      ]
     },
     "execution_count": 110,
     "metadata": {},
     "output_type": "execute_result"
    }
   ],
   "source": [
    "precision_score(y_test, y_preds)"
   ]
  },
  {
   "cell_type": "code",
   "execution_count": 111,
   "metadata": {},
   "outputs": [
    {
     "data": {
      "text/plain": [
       "0.0"
      ]
     },
     "execution_count": 111,
     "metadata": {},
     "output_type": "execute_result"
    }
   ],
   "source": [
    "recall_score(y_test, y_preds)"
   ]
  },
  {
   "cell_type": "markdown",
   "metadata": {},
   "source": [
    "Wow. With these error metrics we did AWFULLY. Honestly, we didn't even predict any true values so they were always going to be rubbish. \n",
    "\n",
    "How can we deal with class imbalance? (I will not go over this in detail but will list out a few points and some links for you to follow)\n",
    "- Random Over/Under Sampling of minority/majority class, respectfully\n",
    "\n",
    "- More sophistacted Over/Under Sampling techniques based on point interpolation in the feature space to generate new synthetic samples, refer the to the imblearn package for many many different ways to sample: https://imbalanced-learn.org/stable/\n",
    "\n",
    "- Assigning different weights to the minority class - i.e telling our model, hey PAY ATTENTION TO THIS, ITS IMPORTANT!"
   ]
  },
  {
   "cell_type": "markdown",
   "metadata": {},
   "source": [
    "### Moving Forward I will be slightly adjusting the context to illustrate different concepts in regards to evaluating classifiers\n",
    "\n",
    "We are now Arsenal FC's head office, and want to predict season ticket holder churn. The president of the club has come to us, the data scientists to try and analyse data on our season ticket holders to predict who would churn and we want to make sure very few people actually leave.\n"
   ]
  },
  {
   "cell_type": "code",
   "execution_count": 164,
   "metadata": {},
   "outputs": [
    {
     "data": {
      "text/plain": [
       "0.925"
      ]
     },
     "execution_count": 164,
     "metadata": {},
     "output_type": "execute_result"
    }
   ],
   "source": [
    "football_df = generate_data(0.65)\n",
    "X_train, X_test, y_train, y_test = split_data(football_df)\n",
    "\n",
    "#instantiate and fit our model\n",
    "football_model = train_model(X_train, y_train)\n",
    "\n",
    "y_preds = football_model.predict(X_test)\n",
    "\n",
    "accuracy_score(y_test, y_preds)"
   ]
  },
  {
   "cell_type": "code",
   "execution_count": 165,
   "metadata": {},
   "outputs": [
    {
     "data": {
      "text/html": [
       "<div>\n",
       "<style scoped>\n",
       "    .dataframe tbody tr th:only-of-type {\n",
       "        vertical-align: middle;\n",
       "    }\n",
       "\n",
       "    .dataframe tbody tr th {\n",
       "        vertical-align: top;\n",
       "    }\n",
       "\n",
       "    .dataframe thead th {\n",
       "        text-align: right;\n",
       "    }\n",
       "</style>\n",
       "<table border=\"1\" class=\"dataframe\">\n",
       "  <thead>\n",
       "    <tr style=\"text-align: right;\">\n",
       "      <th></th>\n",
       "      <th>Predicted False</th>\n",
       "      <th>Predicted True</th>\n",
       "    </tr>\n",
       "  </thead>\n",
       "  <tbody>\n",
       "    <tr>\n",
       "      <th>Actual False</th>\n",
       "      <td>124</td>\n",
       "      <td>5</td>\n",
       "    </tr>\n",
       "    <tr>\n",
       "      <th>Actual True</th>\n",
       "      <td>10</td>\n",
       "      <td>61</td>\n",
       "    </tr>\n",
       "  </tbody>\n",
       "</table>\n",
       "</div>"
      ],
      "text/plain": [
       "              Predicted False  Predicted True\n",
       "Actual False              124               5\n",
       "Actual True                10              61"
      ]
     },
     "execution_count": 165,
     "metadata": {},
     "output_type": "execute_result"
    }
   ],
   "source": [
    "pd.DataFrame(confusion_matrix(y_test, y_preds), \n",
    "             columns = ['Predicted False', 'Predicted True'],\n",
    "            index = ['Actual False', 'Actual True'])"
   ]
  },
  {
   "cell_type": "markdown",
   "metadata": {},
   "source": [
    "instead of calculating our confusion matrix, sklearn offers a clasification report function which calculates everything we would want to know"
   ]
  },
  {
   "cell_type": "code",
   "execution_count": 166,
   "metadata": {
    "scrolled": true
   },
   "outputs": [
    {
     "name": "stdout",
     "output_type": "stream",
     "text": [
      "              precision    recall  f1-score   support\n",
      "\n",
      "         0.0       0.93      0.96      0.94       129\n",
      "         1.0       0.92      0.86      0.89        71\n",
      "\n",
      "    accuracy                           0.93       200\n",
      "   macro avg       0.92      0.91      0.92       200\n",
      "weighted avg       0.92      0.93      0.92       200\n",
      "\n"
     ]
    }
   ],
   "source": [
    "print(classification_report(y_test, y_preds))"
   ]
  },
  {
   "cell_type": "markdown",
   "metadata": {},
   "source": [
    "### Lets ROC n Roll\n",
    "(If anyone's curious ROC stands for Receiver Operating Characteristic) \n",
    "\n",
    "In comes the roc graph which is a plot of the TPR and FPR\n",
    "\n",
    "TPR = True Positive Rate = Recall = $\\large \\frac{TP}{TP+FN}$\n",
    "\n",
    "FPR = False Positive Rate = $\\large \\frac{FP}{FP+TN}$\n",
    "- Note: FPR is describing, out of all the negative samples we have how many of these are we _incorrectly_ guessing\n",
    "\n",
    "Every point on the curve is a different classifier and below we'll look into how to interpret different points in the TPR/FPR space."
   ]
  },
  {
   "cell_type": "code",
   "execution_count": 167,
   "metadata": {},
   "outputs": [
    {
     "data": {
      "image/png": "[encoded data removed]",
      "text/plain": [
       "<Figure size 432x432 with 1 Axes>"
      ]
     },
     "metadata": {
      "needs_background": "light"
     },
     "output_type": "display_data"
    }
   ],
   "source": [
    "f, ax = plt.subplots(figsize=(6, 6))\n",
    "ax.plot([0, 1], [0, 1], transform=ax.transAxes)\n",
    "plt.xlim([-0.01,1.01])\n",
    "plt.ylim([-0.01,1.01])\n",
    "\n",
    "plt.plot(0,1, marker=\"o\", markersize=10)\n",
    "plt.annotate(\"D\", (0,1), weight='bold')\n",
    "\n",
    "plt.plot(0.2,0.8, marker=\"o\", markersize=10, color = 'red')\n",
    "plt.annotate(\"A\", (0.2,0.8), weight='bold',)\n",
    "\n",
    "plt.plot(0.4,0.85, marker=\"o\", markersize=10,  color = 'blue')\n",
    "plt.annotate(\"B\", (0.4,0.85), weight='bold',)\n",
    "\n",
    "plt.plot(0.7,0.7, marker=\"o\", markersize=10)\n",
    "plt.annotate(\"C\", (0.7,0.7), weight='bold')\n",
    "\n",
    "plt.plot(0.8,0.2, marker=\"o\", markersize=10)\n",
    "plt.annotate(\"E\", (0.8,0.2), weight='bold')\n",
    "\n",
    "plt.plot(0,0, marker=\"o\", markersize=10)\n",
    "plt.annotate(\"F\", (0,0), weight='bold')\n",
    "\n",
    "plt.plot(1,1, marker=\"o\", markersize=10)\n",
    "plt.annotate(\"G\", (1,1), weight='bold')\n",
    "\n",
    "plt.xlabel('FPR', weight = 'bold')\n",
    "plt.ylabel('TPR', weight = 'bold')\n",
    "plt.title('ROC space', weight = 'bold')\n",
    "\n",
    "plt.show()"
   ]
  },
  {
   "cell_type": "markdown",
   "metadata": {},
   "source": [
    "Each point above in the ROC space is a different classifier\n",
    "\n",
    "- F @ (0,0): A model that never predicts the positive class so the classifier isn't \"wrong\" (FP) per say but it's never right (TP). \n",
    "\n",
    "- G @(1,1): A model that ONLY predicts the positive class\n",
    "\n",
    "- D @ (0,1): The Perfect Classifier!\n",
    "\n",
    "Classifiers to the left hand side of the graph are more conservative than classifiers to the right hand side which are more liberal\n",
    "\n",
    "I.E Classifier A is more conservative than B meaning that it is less likely to predict a positive class than B.\n",
    "\n",
    "- C @ (0.7, 0.7) is on the y=x line, this is saying that our classifier is as good as random guessing\n",
    "\n",
    "- E @ (0.8,0.2) is in fact WORSE than random guessing and you should NEVER be below this diagonal line because well ... you can just inverse the prediction? \n",
    "\n",
    "Some further points to think about:\n",
    "- Curves on the E side of the diagonal are said to use the data to predict in the wrong way\n",
    "- Curves on the diagonal need to be given more data to predict properly\n",
    "- Curves that are only slightly above the diagonal are they really better than random? or is it just a coincidence"
   ]
  },
  {
   "cell_type": "markdown",
   "metadata": {},
   "source": [
    "### ROC CURVE\n",
    "\n",
    "So what is the ROC curve that you've probably heard about?\n",
    "\n",
    "Classifiers can either be **Discrete** or **Probabalistic**, A Discrete Classifier like our earlier example with the rare disease just predicts 1/0, True/False, you get it.\n",
    "\n",
    "A probabalisitc classifier outputs some numeric score that represents an instances affinity to that class. The numeric score _COULD_ be a probability or some number such that if it above a threshold value we decide than that instance is part of the positive class\n",
    "\n",
    "Varying this threshold value between 0 and 1 moves us from the conservative to liberal side but at each value of this threshold we can calculate the TPR and FPR of the classifier and plot it in the ROC space to get a ROC curve. The more points we plot the smoother the curve. We can find the threshold value that gives us the best classifier"
   ]
  },
  {
   "cell_type": "markdown",
   "metadata": {},
   "source": [
    "### AUC\n",
    "\n",
    "AUC stands for area under curve and it gives an idea of the expected performance of your classifier\n",
    "\n",
    "The AUC of a classifier is also equivalent to the probability that the classifier will rank a randomly chosen positive instance higher than a randomly chosen negative instance. \n",
    "\n",
    "AUC's lie in the range of [0.5, 1] where 0.5 means we are essentially randomly guessing."
   ]
  },
  {
   "cell_type": "markdown",
   "metadata": {},
   "source": [
    "In Practice ROC curves summarise the **Trade off** between TPR and FPR for a model with different positive thresholds. You can think of it as a plot of false alarm rate against hit rate. They are a great for evaluating Balanced Classification problems (where the labels of 0/1 are more or less evenly distributed)"
   ]
  },
  {
   "cell_type": "code",
   "execution_count": 178,
   "metadata": {},
   "outputs": [
    {
     "data": {
      "text/plain": [
       "Text(0.5, 1.0, 'Football Model ROC-CURVE')"
      ]
     },
     "execution_count": 178,
     "metadata": {},
     "output_type": "execute_result"
    },
    {
     "data": {
      "image/png": "[encoded data removed]",
      "text/plain": [
       "<Figure size 432x288 with 1 Axes>"
      ]
     },
     "metadata": {
      "needs_background": "light"
     },
     "output_type": "display_data"
    }
   ],
   "source": [
    "#we've talked about it enough but now lets actually plot it  \n",
    "\n",
    "from sklearn.metrics import RocCurveDisplay\n",
    "\n",
    "X_train, X_test, y_train, y_test = split_data(football_df)\n",
    "\n",
    "RocCurveDisplay.from_estimator(football_model, X_test, y_test)\n",
    "plt.title('Football Model ROC-CURVE', weight= 'bold')"
   ]
  },
  {
   "cell_type": "code",
   "execution_count": 179,
   "metadata": {},
   "outputs": [
    {
     "data": {
      "text/plain": [
       "Text(0.5, 1.0, 'Disease Model ROC-CURVE')"
      ]
     },
     "execution_count": 179,
     "metadata": {},
     "output_type": "execute_result"
    },
    {
     "data": {
      "image/png": "[encoded data removed]",
      "text/plain": [
       "<Figure size 432x288 with 1 Axes>"
      ]
     },
     "metadata": {
      "needs_background": "light"
     },
     "output_type": "display_data"
    }
   ],
   "source": [
    "#Wow our football model is pretty good in terms of AUC and ROC\n",
    "# Lets check out our disease model \n",
    "\n",
    "X_train, X_test, y_train, y_test = split_data(disease_df)\n",
    "\n",
    "RocCurveDisplay.from_estimator(disease_model, X_test, y_test)\n",
    "plt.title('Disease Model ROC-CURVE', weight= 'bold')"
   ]
  },
  {
   "cell_type": "markdown",
   "metadata": {},
   "source": [
    "Our Disease model curve looks very strange compared to our football model, we see that the ROC curve isn't as useful\n",
    "when evaluating models built on highly imbalanced datasets\n",
    "\n",
    "What can we do instead? "
   ]
  },
  {
   "cell_type": "markdown",
   "metadata": {},
   "source": [
    "### Precision - Recall Curve\n",
    "\n",
    "\n",
    "The Precision-Recall curve summarises the trade off between TPR = True Positive Rate = Recall and Positive Predicted Value = Precision at different thresholds\n",
    "\n",
    "Lets look at the P-R Curve for our football and disease model"
   ]
  },
  {
   "cell_type": "code",
   "execution_count": 181,
   "metadata": {},
   "outputs": [
    {
     "data": {
      "text/plain": [
       "Text(0.5, 1.0, 'Football Model PR-CURVE')"
      ]
     },
     "execution_count": 181,
     "metadata": {},
     "output_type": "execute_result"
    },
    {
     "data": {
      "image/png": "[encoded data removed]",
      "text/plain": [
       "<Figure size 432x288 with 1 Axes>"
      ]
     },
     "metadata": {
      "needs_background": "light"
     },
     "output_type": "display_data"
    }
   ],
   "source": [
    "from sklearn.metrics import PrecisionRecallDisplay\n",
    "\n",
    "X_train, X_test, y_train, y_test = split_data(football_df)\n",
    "\n",
    "PrecisionRecallDisplay.from_estimator(football_model, X_test, y_test)\n",
    "plt.title('Football Model PR-CURVE', weight= 'bold')"
   ]
  },
  {
   "cell_type": "code",
   "execution_count": 183,
   "metadata": {},
   "outputs": [
    {
     "data": {
      "text/plain": [
       "Text(0.5, 1.0, 'Disease Model PR-CURVE')"
      ]
     },
     "execution_count": 183,
     "metadata": {},
     "output_type": "execute_result"
    },
    {
     "data": {
      "image/png": "[encoded data removed]",
      "text/plain": [
       "<Figure size 432x288 with 1 Axes>"
      ]
     },
     "metadata": {
      "needs_background": "light"
     },
     "output_type": "display_data"
    }
   ],
   "source": [
    "#The Disease Model\n",
    "\n",
    "X_train, X_test, y_train, y_test = split_data(disease_df)\n",
    "\n",
    "PrecisionRecallDisplay.from_estimator(disease_model, X_test, y_test)\n",
    "plt.title('Disease Model PR-CURVE', weight= 'bold')"
   ]
  },
  {
   "cell_type": "markdown",
   "metadata": {},
   "source": [
    "This Curve looks **HORRENDOUS**"
   ]
  },
  {
   "cell_type": "code",
   "execution_count": null,
   "metadata": {},
   "outputs": [],
   "source": []
  },
  {
   "cell_type": "code",
   "execution_count": null,
   "metadata": {},
   "outputs": [],
   "source": []
  }
 ],
 "metadata": {
  "kernelspec": {
   "display_name": "Python 3 (ipykernel)",
   "language": "python",
   "name": "python3"
  },
  "language_info": {
   "codemirror_mode": {
    "name": "ipython",
    "version": 3
   },
   "file_extension": ".py",
   "mimetype": "text/x-python",
   "name": "python",
   "nbconvert_exporter": "python",
   "pygments_lexer": "ipython3",
   "version": "3.9.9"
  }
 },
 "nbformat": 4,
 "nbformat_minor": 2
}
